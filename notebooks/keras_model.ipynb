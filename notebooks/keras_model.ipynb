{
 "cells": [
  {
   "cell_type": "code",
   "execution_count": 1,
   "metadata": {},
   "outputs": [
    {
     "name": "stderr",
     "output_type": "stream",
     "text": [
      "2024-12-20 12:46:46.587134: I tensorflow/core/platform/cpu_feature_guard.cc:210] This TensorFlow binary is optimized to use available CPU instructions in performance-critical operations.\n",
      "To enable the following instructions: AVX2 FMA, in other operations, rebuild TensorFlow with the appropriate compiler flags.\n"
     ]
    },
    {
     "ename": "ImportError",
     "evalue": "cannot import name 'ImageDataGenerator' from 'keras.preprocessing.image' (/Users/lua/anaconda3/lib/python3.11/site-packages/keras/api/preprocessing/image/__init__.py)",
     "output_type": "error",
     "traceback": [
      "\u001b[0;31m---------------------------------------------------------------------------\u001b[0m",
      "\u001b[0;31mImportError\u001b[0m                               Traceback (most recent call last)",
      "Cell \u001b[0;32mIn[1], line 12\u001b[0m\n\u001b[1;32m     10\u001b[0m \u001b[38;5;28;01mfrom\u001b[39;00m \u001b[38;5;21;01mkeras\u001b[39;00m\u001b[38;5;21;01m.\u001b[39;00m\u001b[38;5;21;01mlayers\u001b[39;00m \u001b[38;5;28;01mimport\u001b[39;00m Convolution2D, MaxPooling2D, ZeroPadding2D, GlobalAveragePooling2D, AveragePooling2D\n\u001b[1;32m     11\u001b[0m \u001b[38;5;28;01mfrom\u001b[39;00m \u001b[38;5;21;01mtensorflow\u001b[39;00m\u001b[38;5;21;01m.\u001b[39;00m\u001b[38;5;21;01mkeras\u001b[39;00m\u001b[38;5;21;01m.\u001b[39;00m\u001b[38;5;21;01mlayers\u001b[39;00m \u001b[38;5;28;01mimport\u001b[39;00m BatchNormalization\n\u001b[0;32m---> 12\u001b[0m \u001b[38;5;28;01mfrom\u001b[39;00m \u001b[38;5;21;01mkeras\u001b[39;00m\u001b[38;5;21;01m.\u001b[39;00m\u001b[38;5;21;01mpreprocessing\u001b[39;00m\u001b[38;5;21;01m.\u001b[39;00m\u001b[38;5;21;01mimage\u001b[39;00m \u001b[38;5;28;01mimport\u001b[39;00m ImageDataGenerator\n\u001b[1;32m     13\u001b[0m \u001b[38;5;28;01mfrom\u001b[39;00m \u001b[38;5;21;01mkeras\u001b[39;00m\u001b[38;5;21;01m.\u001b[39;00m\u001b[38;5;21;01mcallbacks\u001b[39;00m \u001b[38;5;28;01mimport\u001b[39;00m ModelCheckpoint, CSVLogger, LearningRateScheduler, ReduceLROnPlateau\n\u001b[1;32m     14\u001b[0m \u001b[38;5;28;01mfrom\u001b[39;00m \u001b[38;5;21;01mtensorflow\u001b[39;00m\u001b[38;5;21;01m.\u001b[39;00m\u001b[38;5;21;01mkeras\u001b[39;00m\u001b[38;5;21;01m.\u001b[39;00m\u001b[38;5;21;01moptimizers\u001b[39;00m \u001b[38;5;28;01mimport\u001b[39;00m SGD, RMSprop\n",
      "\u001b[0;31mImportError\u001b[0m: cannot import name 'ImageDataGenerator' from 'keras.preprocessing.image' (/Users/lua/anaconda3/lib/python3.11/site-packages/keras/api/preprocessing/image/__init__.py)"
     ]
    }
   ],
   "source": [
    "import keras\n",
    "from keras.applications.inception_v3 import InceptionV3\n",
    "from keras.applications.inception_v3 import preprocess_input, decode_predictions\n",
    "from keras.preprocessing import image\n",
    "from keras.layers import Input\n",
    "import tensorflow as tf\n",
    "from keras import layers\n",
    "from keras.models import Sequential, Model\n",
    "from keras.layers import Dense, Dropout, Activation, Flatten\n",
    "from keras.layers import Convolution2D, MaxPooling2D, ZeroPadding2D, GlobalAveragePooling2D, AveragePooling2D\n",
    "from tensorflow.keras.layers import BatchNormalization\n",
    "from keras.preprocessing.image import ImageDataGenerator\n",
    "from keras.callbacks import ModelCheckpoint, CSVLogger, LearningRateScheduler, ReduceLROnPlateau\n",
    "from tensorflow.keras.optimizers import SGD, RMSprop\n",
    "\n",
    "IMG_SIZE = 400\n",
    "no_of_fruits = 10\n",
    "\n",
    "def create_model():\n",
    "\tmodel = tf.keras.models.Sequential()\n",
    "\tmodel.add(keras.Input(shape=(IMG_SIZE, IMG_SIZE, 3)))\n",
    "\tmodel.add(layers.Conv2D(32,(5,5),activation='relu',padding='same'))\n",
    "\tmodel.add(layers.BatchNormalization())\n",
    "\tmodel.add(layers.Dropout(0.25))\n",
    "\tmodel.add(layers.MaxPooling2D((5, 5), padding='same'))\n",
    "\tmodel.add(layers.Conv2D(64,(5,5),activation='relu',padding='same'))\n",
    "\tmodel.add(layers.BatchNormalization())\n",
    "\tmodel.add(layers.MaxPooling2D((5, 5), padding='same'))\n",
    "\tmodel.add(layers.Dropout(0.25))\n",
    "\tmodel.add(layers.Conv2D(128,(5, 5), activation='relu',padding='same'))\n",
    "\tmodel.add(layers.BatchNormalization())\n",
    "\tmodel.add(layers.MaxPooling2D((5, 5), padding='same'))\n",
    "\tmodel.add(layers.Conv2D(256,(5, 5), activation='relu',padding='same'))\n",
    "\tmodel.add(layers.BatchNormalization())\n",
    "\tmodel.add(layers.MaxPooling2D((5, 5), padding='same'))\n",
    "\tmodel.add(layers.Conv2D(512,(5,5),activation='relu',padding='same'))\n",
    "\tmodel.add(layers.MaxPooling2D((5, 5), padding='same'))\n",
    "\tmodel.add(layers.Conv2D(1024,(5,5),activation='relu',padding='same'))\n",
    "\tmodel.add(layers.MaxPooling2D((5, 5), padding='same'))\n",
    "\tmodel.add(layers.GlobalAveragePooling2D())\n",
    "\tmodel.add(layers.Dense(256, activation='relu'))\n",
    "\tmodel.add(layers.Dense(128, activation='relu'))\n",
    "\tmodel.add(layers.Dropout(.2))\n",
    "\tmodel.add(layers.Dense(64, activation='relu'))\n",
    "\tmodel.add(layers.Dropout(.2))\n",
    "\tmodel.add(layers.Dense(32, activation='relu'))\n",
    "\tmodel.add(layers.Dense(no_of_fruits, activation='softmax'))\n",
    "\treturn model"
   ]
  }
 ],
 "metadata": {
  "kernelspec": {
   "display_name": "base",
   "language": "python",
   "name": "python3"
  },
  "language_info": {
   "codemirror_mode": {
    "name": "ipython",
    "version": 3
   },
   "file_extension": ".py",
   "mimetype": "text/x-python",
   "name": "python",
   "nbconvert_exporter": "python",
   "pygments_lexer": "ipython3",
   "version": "3.11.4"
  }
 },
 "nbformat": 4,
 "nbformat_minor": 2
}
