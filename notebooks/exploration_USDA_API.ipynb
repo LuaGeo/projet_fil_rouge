{
 "cells": [
  {
   "cell_type": "code",
   "execution_count": 1,
   "metadata": {},
   "outputs": [
    {
     "name": "stdout",
     "output_type": "stream",
     "text": [
      "Résultats trouvés:\n",
      "- APPLE (ID: 454004)\n",
      "- APPLE (ID: 2117388)\n",
      "- APPLE (ID: 2124902)\n",
      "- Apple, candied (ID: 2709294)\n",
      "- Apple, raw (ID: 2709215)\n",
      "- Apple, dried (ID: 2709196)\n",
      "- Crisp, apple (ID: 2708023)\n",
      "- Apple, baked (ID: 2709220)\n",
      "- Apple cider (ID: 2709319)\n",
      "- Cobbler, apple (ID: 2708019)\n"
     ]
    }
   ],
   "source": [
    "import requests\n",
    "import pandas as pd\n",
    "\n",
    "API_KEY = \"R8BduwP9sYelrZKviTQC0nQLyztlunF4GhptS97n\"\n",
    "\n",
    "# URL de base de l'API USDA\n",
    "BASE_URL = \"https://api.nal.usda.gov/fdc/v1/foods/search\"\n",
    "\n",
    "# Fonction pour rechercher un aliment\n",
    "def search_food(query, page_number=1, page_size=10):\n",
    "    params = {\n",
    "        \"api_key\": API_KEY,\n",
    "        \"query\": query,  # Terme à rechercher\n",
    "        \"pageNumber\": page_number,  # Page des résultats\n",
    "        \"pageSize\": page_size,  # Nombre de résultats par page\n",
    "        \"dataType\": [\"Survey (FNDDS)\", \"Foundation\", \"Branded\"],  # Types de données à inclure\n",
    "    }\n",
    "    \n",
    "    # Requête GET vers l'API\n",
    "    response = requests.get(BASE_URL, params=params)\n",
    "    \n",
    "    # Vérifier si la requête a réussi\n",
    "    if response.status_code == 200:\n",
    "        return response.json()\n",
    "    else:\n",
    "        return {\"error\": response.status_code, \"message\": response.text}\n",
    "\n",
    "# Exemple d'utilisation\n",
    "if __name__ == \"__main__\":\n",
    "    # Rechercher \"apple\"\n",
    "    results = search_food(\"apple\")\n",
    "    \n",
    "    if \"error\" in results:\n",
    "        print(f\"Erreur {results['error']}: {results['message']}\")\n",
    "    else:\n",
    "        print(\"Résultats trouvés:\")\n",
    "        for food in results.get(\"foods\", []):\n",
    "            print(f\"- {food['description']} (ID: {food['fdcId']})\")"
   ]
  }
 ],
 "metadata": {
  "kernelspec": {
   "display_name": "base",
   "language": "python",
   "name": "python3"
  },
  "language_info": {
   "codemirror_mode": {
    "name": "ipython",
    "version": 3
   },
   "file_extension": ".py",
   "mimetype": "text/x-python",
   "name": "python",
   "nbconvert_exporter": "python",
   "pygments_lexer": "ipython3",
   "version": "3.11.4"
  }
 },
 "nbformat": 4,
 "nbformat_minor": 2
}
